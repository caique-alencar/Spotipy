{
 "cells": [
  {
   "cell_type": "code",
   "execution_count": 3,
   "metadata": {},
   "outputs": [
    {
     "name": "stdout",
     "output_type": "stream",
     "text": [
      "Nome: Caíque Alencar\n",
      "Seguidores: 29\n",
      "Foto de perfil: https://scontent.xx.fbcdn.net/v/t1.0-1/p200x200/25594013_1684320344992970_5938062906810404483_n.jpg?_nc_cat=111&_nc_ht=scontent.xx&oh=083b68a502db46e598f9f589d0f6a87d&oe=5CE20FC2\n",
      "\n",
      "Nome: Lucas Fernandes Laranjeira\n",
      "Seguidores: 81\n",
      "Foto de perfil: https://platform-lookaside.fbsbx.com/platform/profilepic/?asid=666334030100226&height=200&width=200&ext=1552969597&hash=AeR3-JSS4gVaY-Lv\n",
      "\n",
      "Nome: Thamiris Galhardo\n",
      "Seguidores: 34\n",
      "Foto de perfil: https://platform-lookaside.fbsbx.com/platform/profilepic/?asid=1688590968054018&height=200&width=200&ext=1552990530&hash=AeRijU7UE3VDNrcy\n",
      "\n",
      "Nome: Matheus Angioleto Vezzani\n",
      "Seguidores: 32\n",
      "Foto de perfil: https://scontent.xx.fbcdn.net/v/t1.0-1/p200x200/50154994_2390295171043785_8035378615287808000_n.jpg?_nc_cat=100&_nc_ht=scontent.xx&oh=2437c07ea4df0647a56728f870aff4ca&oe=5CE26635\n",
      "\n",
      "Nome: Guilherme Viana\n",
      "Seguidores: 36\n",
      "Foto de perfil: https://scontent.xx.fbcdn.net/v/t1.0-1/p200x200/44939944_1444186582380498_120634017753071616_n.jpg?_nc_cat=104&_nc_ht=scontent.xx&oh=34baeb3d51da767fdc93ebd40e175e29&oe=5CF58E28\n",
      "\n"
     ]
    },
    {
     "data": {
      "text/html": [
       "<div>\n",
       "<style scoped>\n",
       "    .dataframe tbody tr th:only-of-type {\n",
       "        vertical-align: middle;\n",
       "    }\n",
       "\n",
       "    .dataframe tbody tr th {\n",
       "        vertical-align: top;\n",
       "    }\n",
       "\n",
       "    .dataframe thead th {\n",
       "        text-align: right;\n",
       "    }\n",
       "</style>\n",
       "<table border=\"1\" class=\"dataframe\">\n",
       "  <thead>\n",
       "    <tr style=\"text-align: right;\">\n",
       "      <th></th>\n",
       "      <th>foto_perfil</th>\n",
       "      <th>nome</th>\n",
       "      <th>seguidores</th>\n",
       "    </tr>\n",
       "  </thead>\n",
       "  <tbody>\n",
       "    <tr>\n",
       "      <th>1</th>\n",
       "      <td>https://platform-lookaside.fbsbx.com/platform/...</td>\n",
       "      <td>Lucas Fernandes Laranjeira</td>\n",
       "      <td>81</td>\n",
       "    </tr>\n",
       "    <tr>\n",
       "      <th>4</th>\n",
       "      <td>https://scontent.xx.fbcdn.net/v/t1.0-1/p200x20...</td>\n",
       "      <td>Guilherme Viana</td>\n",
       "      <td>36</td>\n",
       "    </tr>\n",
       "    <tr>\n",
       "      <th>2</th>\n",
       "      <td>https://platform-lookaside.fbsbx.com/platform/...</td>\n",
       "      <td>Thamiris Galhardo</td>\n",
       "      <td>34</td>\n",
       "    </tr>\n",
       "    <tr>\n",
       "      <th>3</th>\n",
       "      <td>https://scontent.xx.fbcdn.net/v/t1.0-1/p200x20...</td>\n",
       "      <td>Matheus Angioleto Vezzani</td>\n",
       "      <td>32</td>\n",
       "    </tr>\n",
       "    <tr>\n",
       "      <th>0</th>\n",
       "      <td>https://scontent.xx.fbcdn.net/v/t1.0-1/p200x20...</td>\n",
       "      <td>Caíque Alencar</td>\n",
       "      <td>29</td>\n",
       "    </tr>\n",
       "  </tbody>\n",
       "</table>\n",
       "</div>"
      ],
      "text/plain": [
       "                                         foto_perfil  \\\n",
       "1  https://platform-lookaside.fbsbx.com/platform/...   \n",
       "4  https://scontent.xx.fbcdn.net/v/t1.0-1/p200x20...   \n",
       "2  https://platform-lookaside.fbsbx.com/platform/...   \n",
       "3  https://scontent.xx.fbcdn.net/v/t1.0-1/p200x20...   \n",
       "0  https://scontent.xx.fbcdn.net/v/t1.0-1/p200x20...   \n",
       "\n",
       "                         nome  seguidores  \n",
       "1  Lucas Fernandes Laranjeira          81  \n",
       "4             Guilherme Viana          36  \n",
       "2           Thamiris Galhardo          34  \n",
       "3   Matheus Angioleto Vezzani          32  \n",
       "0              Caíque Alencar          29  "
      ]
     },
     "execution_count": 3,
     "metadata": {},
     "output_type": "execute_result"
    }
   ],
   "source": [
    "# Documentação da API do Spotify: https://developer.spotify.com/documentation/web-api/\n",
    "# Documentação de referências do Spotify: https://developer.spotify.com/documentation/web-api/reference/object-model/\n",
    "\n",
    "import json\n",
    "import spotipy\n",
    "import spotipy.util as util\n",
    "import pandas\n",
    "\n",
    "# Carrega as credenciais da API do Spotify\n",
    "# Nesse caso, as credenciais estão em um JSON salvo no mesmo diretório, que vai ser puxado pelo código\n",
    "with open('credenciais_spotify.json') as cred_data:\n",
    "    info = json.load(cred_data)\n",
    "    username = info['username']\n",
    "    client_id = info['client_id']\n",
    "    client_secret = info['client_secret']\n",
    "    redirect_uri = info['redirect_uri']\n",
    "    scope = info['scope']\n",
    "\n",
    "# Autorização e inicialização da spotipy\n",
    "token = util.prompt_for_user_token(username = username, \n",
    "                                   scope = scope, \n",
    "                                   client_id = client_id, \n",
    "                                   client_secret = client_secret, \n",
    "                                   redirect_uri = redirect_uri)\n",
    "sp = spotipy.Spotify(auth=token)\n",
    "\n",
    "# Users must be set by the username or the ID number\n",
    "usuarios = [\"12148310296\", \"laranjeira.lucas\", \"galhardothami\", \"12142386765\", \"12147137853\"]\n",
    "\n",
    "planilha = []\n",
    "\n",
    "# Percorre a lista de usuários e guarda as informações\n",
    "for usuario in usuarios:\n",
    "    user = sp.user(usuario)\n",
    "    nome = user[\"display_name\"]\n",
    "    seguidores = user[\"followers\"]\n",
    "    total_seguidores = seguidores[\"total\"]\n",
    "    imagens = user[\"images\"]\n",
    "    lista_imagens = imagens[0]\n",
    "    foto_perfil = lista_imagens[\"url\"]\n",
    "    \n",
    "    # print(user) # Essa linha exibe o objeto da API com todos os dados do usuário no Spotify\n",
    "    # print()\n",
    "    \n",
    "    print(f\"Nome: {nome}\")\n",
    "    print(f\"Seguidores: {total_seguidores}\")\n",
    "    print(f\"Foto de perfil: {foto_perfil}\")\n",
    "    print()\n",
    "    \n",
    "    dicionario = {\"nome\": nome, \"seguidores\": total_seguidores, \"foto_perfil\": foto_perfil}\n",
    "    planilha.append(dicionario)\n",
    "    \n",
    "df = pandas.DataFrame(planilha)\n",
    "df.sort_values(by = \"seguidores\", ascending = False)\n",
    "\n",
    "# Linha gera arquivo CSV com base no dataframe do pandas\n",
    "# df.to_csv(\"spotify_usuarios.csv\", sep=\";\", encoding='utf-8')"
   ]
  },
  {
   "cell_type": "code",
   "execution_count": 4,
   "metadata": {},
   "outputs": [
    {
     "data": {
      "text/plain": [
       "<matplotlib.axes._subplots.AxesSubplot at 0x5d87750>"
      ]
     },
     "execution_count": 4,
     "metadata": {},
     "output_type": "execute_result"
    },
    {
     "data": {
      "image/png": "[encoded data removed]",
      "text/plain": [
       "<Figure size 432x288 with 1 Axes>"
      ]
     },
     "metadata": {},
     "output_type": "display_data"
    }
   ],
   "source": [
    "grafico_seguidores = df.groupby(\"nome\")[\"seguidores\"].mean()\n",
    "\n",
    "%matplotlib inline\n",
    "import matplotlib.pyplot as plt\n",
    "\n",
    "grafico_seguidores.plot.bar()\n",
    "\n",
    "# # Não precisa usar o comando get_figure() pra não imprimir o gráfico duas vezes\n",
    "# grafico_seguidores.plot.bar().get_figure()"
   ]
  },
  {
   "cell_type": "code",
   "execution_count": null,
   "metadata": {},
   "outputs": [],
   "source": []
  }
 ],
 "metadata": {
  "kernelspec": {
   "display_name": "Python 3",
   "language": "python",
   "name": "python3"
  },
  "language_info": {
   "codemirror_mode": {
    "name": "ipython",
    "version": 3
   },
   "file_extension": ".py",
   "mimetype": "text/x-python",
   "name": "python",
   "nbconvert_exporter": "python",
   "pygments_lexer": "ipython3",
   "version": "3.6.4"
  }
 },
 "nbformat": 4,
 "nbformat_minor": 2
}
