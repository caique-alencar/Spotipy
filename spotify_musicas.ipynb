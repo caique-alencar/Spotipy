{
 "cells": [
  {
   "cell_type": "code",
   "execution_count": 1,
   "metadata": {},
   "outputs": [
    {
     "name": "stdout",
     "output_type": "stream",
     "text": [
      "Artista: Dilsinho\n",
      "Nome da música: 12 Horas\n",
      "Duração: 240048\n",
      "\n",
      "Artista: ANAVITÓRIA\n",
      "Nome da música: Ai, Amor\n",
      "Duração: 220566\n",
      "\n"
     ]
    }
   ],
   "source": [
    "# Documentação da API do Spotify: https://developer.spotify.com/documentation/web-api/\n",
    "# Documentação de referências do Spotify: https://developer.spotify.com/documentation/web-api/reference/object-model/\n",
    "\n",
    "import json\n",
    "import spotipy\n",
    "import spotipy.util as util\n",
    "import pandas\n",
    "\n",
    "# Carrega as credenciais da API do Spotify\n",
    "# Nesse caso, as credenciais estão em um JSON salvo no mesmo diretório, que vai ser puxado pelo código\n",
    "with open('credenciais_spotify.json') as cred_data:\n",
    "    info = json.load(cred_data)\n",
    "    username = info['username']\n",
    "    client_id = info['client_id']\n",
    "    client_secret = info['client_secret']\n",
    "    redirect_uri = info['redirect_uri']\n",
    "    scope = info['scope']\n",
    "\n",
    "# Autorização e inicialização da spotipy\n",
    "token = util.prompt_for_user_token(username = username, \n",
    "                                   scope = scope, \n",
    "                                   client_id = client_id, \n",
    "                                   client_secret = client_secret, \n",
    "                                   redirect_uri = redirect_uri)\n",
    "sp = spotipy.Spotify(auth=token)\n",
    "\n",
    "# Cria lista de URIs das músicas\n",
    "musicas = [\"7B826fTyDa3DkjnKpOgXFo\", \"3bR8wBqLky6b61ROJlaBEF\"]\n",
    "\n",
    "planilha = []\n",
    "\n",
    "# Percorre lista de músicas e guarda o nome e a duração\n",
    "for musica in musicas:\n",
    "    track = sp.track(musica)\n",
    "    musica = track[\"name\"]\n",
    "    duracao = track[\"duration_ms\"]\n",
    "    \n",
    "    # Esse bloco é a saga para conseguir pegar o nome do artista\n",
    "    # Dicionario dentro de lista, que estava dentro de mais dois dicionários. Fala sério!\n",
    "    dados_album = track[\"album\"]\n",
    "    dados_artista = dados_album[\"artists\"]\n",
    "    dict_artista = dados_artista[0]\n",
    "    nome_artista = dict_artista[\"name\"]\n",
    "\n",
    "    # print(track) # Essa linha exibe o objeto da API com todos os dados da música\n",
    "    # print()\n",
    "    \n",
    "    print(f\"Artista: {nome_artista}\")\n",
    "    print(f\"Nome da música: {musica}\")\n",
    "    print(f\"Duração: {duracao}\")\n",
    "    print()\n",
    "    \n",
    "    dicionario = {\"artista\": nome_artista, \"nome da música\": musica, \"duração\": duracao}\n",
    "    planilha.append(dicionario)\n",
    "\n",
    "df = pandas.DataFrame(planilha)\n",
    "df.sort_values(by = \"artista\", ascending = True)\n",
    "df.to_csv(\"spotify_musicas.csv\", sep=\";\", encoding='utf-8')"
   ]
  },
  {
   "cell_type": "code",
   "execution_count": null,
   "metadata": {},
   "outputs": [],
   "source": []
  }
 ],
 "metadata": {
  "kernelspec": {
   "display_name": "Python 3",
   "language": "python",
   "name": "python3"
  },
  "language_info": {
   "codemirror_mode": {
    "name": "ipython",
    "version": 3
   },
   "file_extension": ".py",
   "mimetype": "text/x-python",
   "name": "python",
   "nbconvert_exporter": "python",
   "pygments_lexer": "ipython3",
   "version": "3.6.4"
  }
 },
 "nbformat": 4,
 "nbformat_minor": 2
}
