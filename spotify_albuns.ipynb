{
 "cells": [
  {
   "cell_type": "code",
   "execution_count": 1,
   "metadata": {},
   "outputs": [
    {
     "name": "stdout",
     "output_type": "stream",
     "text": [
      "##### Álbuns #####\n",
      "\n",
      "Artista: ANAVITÓRIA\n",
      "Álbum: O Tempo É Agora\n",
      "\n",
      "Música 1: Ai, Amor\n",
      "Música 2: Porque Eu Te Amo\n",
      "Música 3: Calendário\n",
      "Música 4: Outrória\n",
      "Música 5: A Gente Junto\n",
      "Música 6: O Tempo É Agora\n",
      "Música 7: Preta\n",
      "Música 8: Canção De Hotel\n",
      "Música 9: Cecília\n",
      "Música 10: Dói Sem Tanto\n",
      "Música 11: Se Tudo Acaba\n"
     ]
    }
   ],
   "source": [
    "# Documentação da API do Spotify: https://developer.spotify.com/documentation/web-api/\n",
    "# Documentação de referências do Spotify: https://developer.spotify.com/documentation/web-api/reference/object-model/\n",
    "\n",
    "import json\n",
    "import spotipy\n",
    "import spotipy.util as util\n",
    "\n",
    "# Carrega as credenciais da API do Spotify\n",
    "# Nesse caso, as credenciais estão em um JSON salvo no mesmo diretório, que vai ser puxado pelo código\n",
    "with open('credenciais_spotify.json') as cred_data:\n",
    "    info = json.load(cred_data)\n",
    "    username = info['username']\n",
    "    client_id = info['client_id']\n",
    "    client_secret = info['client_secret']\n",
    "    redirect_uri = info['redirect_uri']\n",
    "    scope = info['scope']\n",
    "\n",
    "# Autorização e inicialização da spotipy\n",
    "token = util.prompt_for_user_token(username = username, \n",
    "                                   scope = scope, \n",
    "                                   client_id = client_id, \n",
    "                                   client_secret = client_secret, \n",
    "                                   redirect_uri = redirect_uri)\n",
    "sp = spotipy.Spotify(auth=token)\n",
    "\n",
    "print(\"##### Álbuns #####\")\n",
    "print()\n",
    "\n",
    "# Coleta informação bruta do álbum\n",
    "sopa = sp.album(\"0yiQu0POzXcfjEB6qBuhtj\")\n",
    "\n",
    "# Limpa e exibe o nome do artista\n",
    "artista = sopa[\"artists\"]\n",
    "artista1 = artista[0]\n",
    "artista2 = artista1[\"name\"]\n",
    "print(f\"Artista: {artista2}\")\n",
    "\n",
    "# Limpa e exibe o nome do álbum\n",
    "nome_album = sopa[\"name\"]\n",
    "print(f\"Álbum: {nome_album}\")\n",
    "print()\n",
    "\n",
    "# Coleta o total de faixas do álbum\n",
    "total_faixas = sopa[\"total_tracks\"]\n",
    "cont = 0\n",
    "\n",
    "#Percorre e exibe as faixas do álbum\n",
    "while cont < total_faixas:\n",
    "    faixas = sopa[\"tracks\"]\n",
    "    itens = faixas[\"items\"]\n",
    "    externos = itens[cont]\n",
    "    nome_musica = externos[\"name\"]\n",
    "    print(f\"Música {cont+1}: {nome_musica}\")\n",
    "    cont += 1"
   ]
  },
  {
   "cell_type": "code",
   "execution_count": null,
   "metadata": {},
   "outputs": [],
   "source": []
  }
 ],
 "metadata": {
  "kernelspec": {
   "display_name": "Python 3",
   "language": "python",
   "name": "python3"
  },
  "language_info": {
   "codemirror_mode": {
    "name": "ipython",
    "version": 3
   },
   "file_extension": ".py",
   "mimetype": "text/x-python",
   "name": "python",
   "nbconvert_exporter": "python",
   "pygments_lexer": "ipython3",
   "version": "3.6.4"
  }
 },
 "nbformat": 4,
 "nbformat_minor": 2
}
